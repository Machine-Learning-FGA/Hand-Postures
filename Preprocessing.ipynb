{
 "cells": [
  {
   "cell_type": "code",
   "execution_count": 1,
   "metadata": {},
   "outputs": [],
   "source": [
    "import pandas as pd\n",
    "\n",
    "dataset = pd.read_csv('allUsers.lcl.csv')"
   ]
  },
  {
   "cell_type": "code",
   "execution_count": 2,
   "metadata": {},
   "outputs": [
    {
     "name": "stdout",
     "output_type": "stream",
     "text": [
      "   Class  User         X0         Y0         Z0         X1         Y1  \\\n",
      "0      0     0   0.000000   0.000000   0.000000   0.000000   0.000000   \n",
      "1      1     0  54.263880  71.466776 -64.807709  76.895635  42.462500   \n",
      "2      1     0  56.527558  72.266609 -61.935252  39.135978  82.538530   \n",
      "3      1     0  55.849928  72.469064 -62.562788  37.988804  82.631347   \n",
      "4      1     0  55.329647  71.707275 -63.688956  36.561863  81.868749   \n",
      "\n",
      "          Z1         X2         Y2 ...  Z8 X9 Y9 Z9 X10 Y10 Z10 X11 Y11 Z11  \n",
      "0   0.000000   0.000000   0.000000 ...   0  0  0  0   0   0   0   0   0   0  \n",
      "1 -72.780545  36.621229  81.680557 ...   ?  ?  ?  ?   ?   ?   ?   ?   ?   ?  \n",
      "2 -49.596509  79.223743  43.254091 ...   ?  ?  ?  ?   ?   ?   ?   ?   ?   ?  \n",
      "3 -50.606259  78.451526  43.567403 ...   ?  ?  ?  ?   ?   ?   ?   ?   ?   ?  \n",
      "4 -52.752784  86.320630  68.214645 ...   ?  ?  ?  ?   ?   ?   ?   ?   ?   ?  \n",
      "\n",
      "[5 rows x 38 columns]\n"
     ]
    }
   ],
   "source": [
    "print(dataset.head())"
   ]
  },
  {
   "cell_type": "code",
   "execution_count": 3,
   "metadata": {},
   "outputs": [],
   "source": [
    "parents = {}\n",
    "keys = ['X', 'Y', 'Z']\n",
    "\n",
    "for k in keys:\n",
    "    for i in range(1, 12):\n",
    "        parents[str(k) + str(i)] = str(k) + str(i-1)"
   ]
  },
  {
   "cell_type": "code",
   "execution_count": 4,
   "metadata": {},
   "outputs": [
    {
     "name": "stdout",
     "output_type": "stream",
     "text": [
      "dict_keys(['X1', 'X2', 'X3', 'X4', 'X5', 'X6', 'X7', 'X8', 'X9', 'X10', 'X11', 'Y1', 'Y2', 'Y3', 'Y4', 'Y5', 'Y6', 'Y7', 'Y8', 'Y9', 'Y10', 'Y11', 'Z1', 'Z2', 'Z3', 'Z4', 'Z5', 'Z6', 'Z7', 'Z8', 'Z9', 'Z10', 'Z11'])\n"
     ]
    }
   ],
   "source": [
    "print(parents.keys())"
   ]
  },
  {
   "cell_type": "code",
   "execution_count": 5,
   "metadata": {},
   "outputs": [
    {
     "name": "stdout",
     "output_type": "stream",
     "text": [
      "Started\n",
      "Finished\n"
     ]
    }
   ],
   "source": [
    "linhas, cols = dataset.shape\n",
    "colnames = dataset.columns\n",
    "new_dataset = dataset\n",
    "print('Started')\n",
    "for linha in range(1, linhas):\n",
    "    for col in range(1, cols):\n",
    "        if(new_dataset.iloc[linha, col] == '?'):\n",
    "            new_dataset.set_value(linha, colnames[col], new_dataset.loc[linha, parents[colnames[col]]])\n",
    "\n",
    "print('Finished')\n",
    "            \n",
    "#new_dataset = pd.DataFrame(new_dataset, columns=dataset.columns)"
   ]
  },
  {
   "cell_type": "code",
   "execution_count": 7,
   "metadata": {},
   "outputs": [],
   "source": [
    "X = new_dataset.iloc[1:, 1:]\n",
    "y = new_dataset.iloc[1:, 0]"
   ]
  },
  {
   "cell_type": "code",
   "execution_count": 8,
   "metadata": {},
   "outputs": [],
   "source": [
    "from sklearn.neighbors import KNeighborsClassifier\n",
    "from sklearn.model_selection import train_test_split\n",
    "\n",
    "X_train, X_test, y_train, y_test = train_test_split(X, y, test_size=0.33, random_state=42)\n",
    "knn = KNeighborsClassifier(n_neighbors=3)\n"
   ]
  },
  {
   "cell_type": "code",
   "execution_count": 9,
   "metadata": {},
   "outputs": [
    {
     "name": "stdout",
     "output_type": "stream",
     "text": [
      "0.92693620984\n"
     ]
    }
   ],
   "source": [
    "knn.fit(X_train, y_train)\n",
    "print(knn.score(X_test, y_test))"
   ]
  }
 ],
 "metadata": {
  "kernelspec": {
   "display_name": "Python 3",
   "language": "python",
   "name": "python3"
  },
  "language_info": {
   "codemirror_mode": {
    "name": "ipython",
    "version": 3
   },
   "file_extension": ".py",
   "mimetype": "text/x-python",
   "name": "python",
   "nbconvert_exporter": "python",
   "pygments_lexer": "ipython3",
   "version": "3.6.3"
  }
 },
 "nbformat": 4,
 "nbformat_minor": 2
}
